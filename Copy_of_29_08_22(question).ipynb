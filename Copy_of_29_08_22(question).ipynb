{
  "nbformat": 4,
  "nbformat_minor": 0,
  "metadata": {
    "colab": {
      "name": "Copy of 29-08-22(question).ipynb",
      "provenance": [],
      "collapsed_sections": [],
      "include_colab_link": true
    },
    "kernelspec": {
      "name": "python3",
      "display_name": "Python 3"
    },
    "language_info": {
      "name": "python"
    }
  },
  "cells": [
    {
      "cell_type": "markdown",
      "metadata": {
        "id": "view-in-github",
        "colab_type": "text"
      },
      "source": [
        "<a href=\"https://colab.research.google.com/github/Nikhiljaisajce/ML/blob/main/Copy_of_29_08_22(question).ipynb\" target=\"_parent\"><img src=\"https://colab.research.google.com/assets/colab-badge.svg\" alt=\"Open In Colab\"/></a>"
      ]
    },
    {
      "cell_type": "code",
      "execution_count": null,
      "metadata": {
        "id": "PRQYxsvPRnTe"
      },
      "outputs": [],
      "source": [
        "import pandas as pd\n",
        "import numpy as np"
      ]
    },
    {
      "cell_type": "code",
      "source": [
        "#How to create Series with nd array\n",
        "print(pd.Series(np.array([1,2,3,4,5,6,7])))"
      ],
      "metadata": {
        "colab": {
          "base_uri": "https://localhost:8080/"
        },
        "id": "hemldVMHRyhY",
        "outputId": "4521feb1-282e-4963-cc19-c26bcd41294e"
      },
      "execution_count": null,
      "outputs": [
        {
          "output_type": "stream",
          "name": "stdout",
          "text": [
            "0    1\n",
            "1    2\n",
            "2    3\n",
            "3    4\n",
            "4    5\n",
            "5    6\n",
            "6    7\n",
            "dtype: int64\n"
          ]
        }
      ]
    },
    {
      "cell_type": "code",
      "source": [
        "#How to create Series with Mutable index\n",
        "print(pd.Series(np.array([1,2,3,4,5,6,7]), index=['a','b','c','d','e','f','g']))"
      ],
      "metadata": {
        "colab": {
          "base_uri": "https://localhost:8080/"
        },
        "id": "Y9pjXbvbR9oA",
        "outputId": "3d0dcf90-9e28-4828-b1d6-4bce319cc7e1"
      },
      "execution_count": null,
      "outputs": [
        {
          "output_type": "stream",
          "name": "stdout",
          "text": [
            "a    1\n",
            "b    2\n",
            "c    3\n",
            "d    4\n",
            "e    5\n",
            "f    6\n",
            "g    7\n",
            "dtype: int64\n"
          ]
        }
      ]
    },
    {
      "cell_type": "code",
      "source": [
        "#Creating a series from a Dictionary\n",
        "print(pd.Series({'name':1, 'new':10}))"
      ],
      "metadata": {
        "colab": {
          "base_uri": "https://localhost:8080/"
        },
        "id": "4FS9V36zSO2A",
        "outputId": "06ec9b8c-5d58-492c-95b0-446e851193eb"
      },
      "execution_count": null,
      "outputs": [
        {
          "output_type": "stream",
          "name": "stdout",
          "text": [
            "name     1\n",
            "new     10\n",
            "dtype: int64\n"
          ]
        }
      ]
    },
    {
      "cell_type": "code",
      "source": [
        "#Print all the values of the Series by multiplying them by 2.\n",
        "print(pd.Series(np.array([1,2,3,4,5,6,7]), index=['a','b','c','d','e','f','g'])*2)"
      ],
      "metadata": {
        "colab": {
          "base_uri": "https://localhost:8080/"
        },
        "id": "aW9vWVUNShWf",
        "outputId": "0e6210f0-8eb2-4654-aea8-3d10f952b03d"
      },
      "execution_count": null,
      "outputs": [
        {
          "output_type": "stream",
          "name": "stdout",
          "text": [
            "a     2\n",
            "b     4\n",
            "c     6\n",
            "d     8\n",
            "e    10\n",
            "f    12\n",
            "g    14\n",
            "dtype: int64\n"
          ]
        }
      ]
    },
    {
      "cell_type": "code",
      "source": [
        "#Print Square of all the values of the series.\n",
        "print(pd.Series(np.array([1,2,3,4,5,6,7]), index=['a','b','c','d','e','f','g'])**2)"
      ],
      "metadata": {
        "colab": {
          "base_uri": "https://localhost:8080/"
        },
        "id": "vTX0VYrxSp53",
        "outputId": "91b04ad0-4d82-49f8-d5ee-bb755bfa5cf5"
      },
      "execution_count": null,
      "outputs": [
        {
          "output_type": "stream",
          "name": "stdout",
          "text": [
            "a     1\n",
            "b     4\n",
            "c     9\n",
            "d    16\n",
            "e    25\n",
            "f    36\n",
            "g    49\n",
            "dtype: int64\n"
          ]
        }
      ]
    },
    {
      "cell_type": "code",
      "source": [
        "#Print all the values of the Series that are greater than2\n",
        "print(pd.Series(np.array([1,2,3,4,5,6,7]), index=['a','b','c','d','e','f','g'])[pd.Series(np.array([1,2,3,4,5,6,7]), index=['a','b','c','d','e','f','g'])>2])"
      ],
      "metadata": {
        "colab": {
          "base_uri": "https://localhost:8080/"
        },
        "id": "xYygi9dgSvh3",
        "outputId": "b52b59a6-954d-4428-a53f-61eae76026b3"
      },
      "execution_count": null,
      "outputs": [
        {
          "output_type": "stream",
          "name": "stdout",
          "text": [
            "c    3\n",
            "d    4\n",
            "e    5\n",
            "f    6\n",
            "g    7\n",
            "dtype: int64\n"
          ]
        }
      ]
    },
    {
      "cell_type": "code",
      "source": [
        "#Addition of two series\n",
        "print(pd.Series(np.array([1,2,3,4,5,6,7]))+pd.Series(np.array([11,22,33,44,55,66,77])))"
      ],
      "metadata": {
        "colab": {
          "base_uri": "https://localhost:8080/"
        },
        "id": "cO_CXuKKS_e3",
        "outputId": "a42ab9dc-e783-4ada-f75e-b74d025a5f2a"
      },
      "execution_count": null,
      "outputs": [
        {
          "output_type": "stream",
          "name": "stdout",
          "text": [
            "0    12\n",
            "1    24\n",
            "2    36\n",
            "3    48\n",
            "4    60\n",
            "5    72\n",
            "6    84\n",
            "dtype: int64\n"
          ]
        }
      ]
    },
    {
      "cell_type": "code",
      "source": [
        "#Print the first and last 5 elements of a series\n",
        "print(pd.Series(np.array([1,2,3,4,5,6,7])).head(5))"
      ],
      "metadata": {
        "colab": {
          "base_uri": "https://localhost:8080/"
        },
        "id": "gDsfJ5QGTRO4",
        "outputId": "682ba2bc-a677-4381-b941-c19dc6a538e2"
      },
      "execution_count": null,
      "outputs": [
        {
          "output_type": "stream",
          "name": "stdout",
          "text": [
            "0    1\n",
            "1    2\n",
            "2    3\n",
            "3    4\n",
            "4    5\n",
            "dtype: int64\n"
          ]
        }
      ]
    },
    {
      "cell_type": "code",
      "source": [
        "#Print the values from index 0 to 5\n",
        "print(pd.Series(np.array([1,2,3,4,5,6,7]))[:5])"
      ],
      "metadata": {
        "colab": {
          "base_uri": "https://localhost:8080/"
        },
        "id": "aD-r62HsTZ4O",
        "outputId": "c940b3ed-9cc5-4752-ce2d-f7f7b726be1b"
      },
      "execution_count": null,
      "outputs": [
        {
          "output_type": "stream",
          "name": "stdout",
          "text": [
            "0    1\n",
            "1    2\n",
            "2    3\n",
            "3    4\n",
            "4    5\n",
            "dtype: int64\n"
          ]
        }
      ]
    },
    {
      "cell_type": "code",
      "source": [
        "#Selection Using loc, iloc index label\n",
        "print(pd.Series(np.array([1,2,3,4,5,6,7])).loc[:2])\n",
        "print(pd.Series(np.array([1,2,3,4,5,6,7])).iloc[:2])"
      ],
      "metadata": {
        "colab": {
          "base_uri": "https://localhost:8080/"
        },
        "id": "WoBIDyHRTroH",
        "outputId": "5256d8b5-a104-47c6-eebe-c62d7a977ab8"
      },
      "execution_count": null,
      "outputs": [
        {
          "output_type": "stream",
          "name": "stdout",
          "text": [
            "0    1\n",
            "1    2\n",
            "2    3\n",
            "dtype: int64\n",
            "0    1\n",
            "1    2\n",
            "dtype: int64\n"
          ]
        }
      ]
    },
    {
      "cell_type": "code",
      "source": [
        "#Retrieve subsets of data using slicing\n",
        "print(pd.Series(np.array([1,2,3,4,5,6,7,8,9,10,11,12,13,14,15]))[2:14:2])"
      ],
      "metadata": {
        "colab": {
          "base_uri": "https://localhost:8080/"
        },
        "id": "dvkKmmVIUL8w",
        "outputId": "8ad5b2ba-d749-4a24-9c7c-90b29e64c85e"
      },
      "execution_count": null,
      "outputs": [
        {
          "output_type": "stream",
          "name": "stdout",
          "text": [
            "2      3\n",
            "4      5\n",
            "6      7\n",
            "8      9\n",
            "10    11\n",
            "12    13\n",
            "dtype: int64\n"
          ]
        }
      ]
    },
    {
      "cell_type": "code",
      "source": [
        "#create Dataframe From Series"
      ],
      "metadata": {
        "id": "fdEef7iWUZgW"
      },
      "execution_count": null,
      "outputs": []
    },
    {
      "cell_type": "code",
      "source": [
        "print(pd.DataFrame(pd.Series([1,2,3,4,5,6,7,8,9])))"
      ],
      "metadata": {
        "colab": {
          "base_uri": "https://localhost:8080/"
        },
        "id": "6zOxhiF4UgW3",
        "outputId": "270973eb-364e-4307-9b6f-007631789fc1"
      },
      "execution_count": null,
      "outputs": [
        {
          "output_type": "stream",
          "name": "stdout",
          "text": [
            "   0\n",
            "0  1\n",
            "1  2\n",
            "2  3\n",
            "3  4\n",
            "4  5\n",
            "5  6\n",
            "6  7\n",
            "7  8\n",
            "8  9\n"
          ]
        }
      ]
    },
    {
      "cell_type": "code",
      "source": [
        "#DataFrame from List of Dictionaries\n",
        "print(pd.DataFrame({'name':[2,4,5,7,8], 'new':[4,6,8,9,1]}))"
      ],
      "metadata": {
        "colab": {
          "base_uri": "https://localhost:8080/"
        },
        "id": "anw4TI97Uy6d",
        "outputId": "18a0d9b5-138f-43ea-b050-dae30b77082a"
      },
      "execution_count": null,
      "outputs": [
        {
          "output_type": "stream",
          "name": "stdout",
          "text": [
            "   name  new\n",
            "0     2    4\n",
            "1     4    6\n",
            "2     5    8\n",
            "3     7    9\n",
            "4     8    1\n"
          ]
        }
      ]
    },
    {
      "cell_type": "code",
      "source": [
        "#Display the first 5 rows of data frame\n",
        "print(pd.DataFrame({'name':[2,4,5,7,8,5,2,4], 'new':[4,6,8,9,1,7,9,1]}).head())"
      ],
      "metadata": {
        "colab": {
          "base_uri": "https://localhost:8080/"
        },
        "id": "NQR0SFeCVCTO",
        "outputId": "f79c10be-396b-4610-927c-611849326dca"
      },
      "execution_count": null,
      "outputs": [
        {
          "output_type": "stream",
          "name": "stdout",
          "text": [
            "   name  new\n",
            "0     2    4\n",
            "1     4    6\n",
            "2     5    8\n",
            "3     7    9\n",
            "4     8    1\n"
          ]
        }
      ]
    },
    {
      "cell_type": "code",
      "source": [
        "# Select the last two columns of the data frame\n",
        "print(pd.DataFrame({'name':[2,4,5,7,8,5,2,4], 'new':[4,6,8,9,1,7,9,1], 'value':[1,2,3,4,5,6,7,8]}).iloc[: , 1:])"
      ],
      "metadata": {
        "colab": {
          "base_uri": "https://localhost:8080/"
        },
        "id": "LhRf9vcsVNrc",
        "outputId": "c22e2f89-3267-4e1c-d78e-82524e30ffa1"
      },
      "execution_count": null,
      "outputs": [
        {
          "output_type": "stream",
          "name": "stdout",
          "text": [
            "   new  value\n",
            "0    4      1\n",
            "1    6      2\n",
            "2    8      3\n",
            "3    9      4\n",
            "4    1      5\n",
            "5    7      6\n",
            "6    9      7\n",
            "7    1      8\n"
          ]
        }
      ]
    },
    {
      "cell_type": "code",
      "source": [
        "# Add two data frames\n",
        "print(pd.DataFrame({'name':[2,4,5,7,8,5,2,4], 'new':[4,6,8,9,1,7,9,1]})+ pd.DataFrame({'name':[2,4,5,7,8,5,2,4], 'new':[4,6,8,9,1,7,9,1]}))"
      ],
      "metadata": {
        "colab": {
          "base_uri": "https://localhost:8080/"
        },
        "id": "gPboczRiVuvT",
        "outputId": "b534d5ed-5179-48a5-dd33-28cc8eee7e54"
      },
      "execution_count": null,
      "outputs": [
        {
          "output_type": "stream",
          "name": "stdout",
          "text": [
            "   name  new\n",
            "0     4    8\n",
            "1     8   12\n",
            "2    10   16\n",
            "3    14   18\n",
            "4    16    2\n",
            "5    10   14\n",
            "6     4   18\n",
            "7     8    2\n"
          ]
        }
      ]
    },
    {
      "cell_type": "code",
      "source": [
        "# Demonstrate deletion, and renaming of columns\n",
        "val=pd.DataFrame({'name':[2,4,5,7,8,5,2,4], 'new':[4,6,8,9,1,7,9,1], 'value':[1,2,3,4,5,6,7,8], 'value2':[1,2,3,4,5,6,7,8]})\n",
        "print(val.drop('name',axis=1))\n",
        "val.rename(columns={'name':'name2'}, inplace=True)\n",
        "print(val)"
      ],
      "metadata": {
        "colab": {
          "base_uri": "https://localhost:8080/"
        },
        "id": "TJ25wGkuWVuz",
        "outputId": "39413fb6-4a94-4175-cad0-2f2ea183d729"
      },
      "execution_count": null,
      "outputs": [
        {
          "output_type": "stream",
          "name": "stdout",
          "text": [
            "   new  value  value2\n",
            "0    4      1       1\n",
            "1    6      2       2\n",
            "2    8      3       3\n",
            "3    9      4       4\n",
            "4    1      5       5\n",
            "5    7      6       6\n",
            "6    9      7       7\n",
            "7    1      8       8\n",
            "   name2  new  value  value2\n",
            "0      2    4      1       1\n",
            "1      4    6      2       2\n",
            "2      5    8      3       3\n",
            "3      7    9      4       4\n",
            "4      8    1      5       5\n",
            "5      5    7      6       6\n",
            "6      2    9      7       7\n",
            "7      4    1      8       8\n"
          ]
        }
      ]
    },
    {
      "cell_type": "code",
      "source": [
        "#Demonstrate concat, Merge operations in data frame\n",
        "print(pd.concat([pd.DataFrame({'name':[2,4,5,7,8,5,2,4], 'new':[4,6,8,9,1,7,9,1]}),pd.DataFrame({'name':[2,4,5,7,8,5,2,4], 'new':[4,6,8,9,1,7,9,1]})], ignore_index=True))\n"
      ],
      "metadata": {
        "id": "pQ4HjrTfYQiC",
        "colab": {
          "base_uri": "https://localhost:8080/"
        },
        "outputId": "e1b16e68-c1c4-4b6a-f37a-12d544e3c721"
      },
      "execution_count": null,
      "outputs": [
        {
          "output_type": "stream",
          "name": "stdout",
          "text": [
            "    name  new\n",
            "0      2    4\n",
            "1      4    6\n",
            "2      5    8\n",
            "3      7    9\n",
            "4      8    1\n",
            "5      5    7\n",
            "6      2    9\n",
            "7      4    1\n",
            "8      2    4\n",
            "9      4    6\n",
            "10     5    8\n",
            "11     7    9\n",
            "12     8    1\n",
            "13     5    7\n",
            "14     2    9\n",
            "15     4    1\n"
          ]
        }
      ]
    },
    {
      "cell_type": "code",
      "source": [
        "data1 = {'key': ['K0', 'K1', 'K2', 'K3'],\n",
        "         'Name':['Jai', 'Princi', 'Gaurav', 'Anuj'], \n",
        "        'Age':[27, 24, 22, 32],} \n",
        "data2 = {'key': ['K0', 'K1', 'K2', 'K3'],\n",
        "         'Address':['Nagpur', 'Kanpur', 'Allahabad', 'Kannuaj'], \n",
        "        'Qualification':['Btech', 'B.A', 'Bcom', 'B.hons']} \n",
        "df = pd.DataFrame(data1)\n",
        "df1 = pd.DataFrame(data2) \n",
        "# print(df, \"\\n\\n\", df1) \n",
        "print(pd.merge(df, df1, on='key'))"
      ],
      "metadata": {
        "colab": {
          "base_uri": "https://localhost:8080/"
        },
        "id": "PqavyOVNZ-o-",
        "outputId": "76e9f2a0-caf6-4f5b-fbeb-03c6782a0a9a"
      },
      "execution_count": null,
      "outputs": [
        {
          "output_type": "stream",
          "name": "stdout",
          "text": [
            "  key    Name  Age    Address Qualification\n",
            "0  K0     Jai   27     Nagpur         Btech\n",
            "1  K1  Princi   24     Kanpur           B.A\n",
            "2  K2  Gaurav   22  Allahabad          Bcom\n",
            "3  K3    Anuj   32    Kannuaj        B.hons\n"
          ]
        }
      ]
    },
    {
      "cell_type": "code",
      "source": [
        "#Write a Pandas program to join the two given dataframes along rows and\n",
        "# assign all data\n",
        "\n",
        "s1 = pd.DataFrame({\n",
        "        'student_id': ['S1', 'S2', 'S3', 'S4', 'S5'],\n",
        "         'name': ['Danniella Fenton', 'Ryder Storey', 'Bryce Jensen', 'Ed Bernal', 'Kwame Morin'], \n",
        "        'marks': [200, 210, 190, 222, 199]})\n",
        "\n",
        "s2 = pd.DataFrame({\n",
        "        'student_id': ['S4', 'S5', 'S6', 'S7', 'S8'],\n",
        "        'name': ['Scarlette Fisher', 'Carla Williamson', 'Dante Morse', 'Kaiser William', 'Madeeha Preston'], \n",
        "        'marks': [201, 200, 198, 219, 201]})\n",
        "\n",
        "print(\"Original DataFrames:\")\n",
        "print(s1)\n",
        "print(\"-------------------------------------\")\n",
        "print(s2)\n",
        "print(\"\\ntwo dataframes along rows:\")\n",
        "result_data = pd.concat([s1, s2])\n",
        "print(result_data)"
      ],
      "metadata": {
        "colab": {
          "base_uri": "https://localhost:8080/"
        },
        "id": "UtZZfnboaSlM",
        "outputId": "63e407ce-23e2-4c45-cb81-316d04f043d3"
      },
      "execution_count": null,
      "outputs": [
        {
          "output_type": "stream",
          "name": "stdout",
          "text": [
            "Original DataFrames:\n",
            "  student_id              name  marks\n",
            "0         S1  Danniella Fenton    200\n",
            "1         S2      Ryder Storey    210\n",
            "2         S3      Bryce Jensen    190\n",
            "3         S4         Ed Bernal    222\n",
            "4         S5       Kwame Morin    199\n",
            "-------------------------------------\n",
            "  student_id              name  marks\n",
            "0         S4  Scarlette Fisher    201\n",
            "1         S5  Carla Williamson    200\n",
            "2         S6       Dante Morse    198\n",
            "3         S7    Kaiser William    219\n",
            "4         S8   Madeeha Preston    201\n",
            "\n",
            "two dataframes along rows:\n",
            "  student_id              name  marks\n",
            "0         S1  Danniella Fenton    200\n",
            "1         S2      Ryder Storey    210\n",
            "2         S3      Bryce Jensen    190\n",
            "3         S4         Ed Bernal    222\n",
            "4         S5       Kwame Morin    199\n",
            "0         S4  Scarlette Fisher    201\n",
            "1         S5  Carla Williamson    200\n",
            "2         S6       Dante Morse    198\n",
            "3         S7    Kaiser William    219\n",
            "4         S8   Madeeha Preston    201\n"
          ]
        }
      ]
    },
    {
      "cell_type": "code",
      "source": [
        "#save dataframe to csv file\n",
        "result_data.to_csv('output.csv')"
      ],
      "metadata": {
        "id": "gXEjx24YaxMN"
      },
      "execution_count": null,
      "outputs": []
    }
  ]
}